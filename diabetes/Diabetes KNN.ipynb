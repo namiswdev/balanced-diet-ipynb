{
 "cells": [
  {
   "cell_type": "code",
   "execution_count": 1,
   "id": "d412cc52",
   "metadata": {},
   "outputs": [
    {
     "data": {
      "text/html": [
       "<div>\n",
       "<style scoped>\n",
       "    .dataframe tbody tr th:only-of-type {\n",
       "        vertical-align: middle;\n",
       "    }\n",
       "\n",
       "    .dataframe tbody tr th {\n",
       "        vertical-align: top;\n",
       "    }\n",
       "\n",
       "    .dataframe thead th {\n",
       "        text-align: right;\n",
       "    }\n",
       "</style>\n",
       "<table border=\"1\" class=\"dataframe\">\n",
       "  <thead>\n",
       "    <tr style=\"text-align: right;\">\n",
       "      <th></th>\n",
       "      <th>Pregnancies</th>\n",
       "      <th>Glucose</th>\n",
       "      <th>BloodPressure</th>\n",
       "      <th>SkinThickness</th>\n",
       "      <th>Insulin</th>\n",
       "      <th>BMI</th>\n",
       "      <th>DiabetesPedigreeFunction</th>\n",
       "      <th>Age</th>\n",
       "      <th>Outcome</th>\n",
       "    </tr>\n",
       "  </thead>\n",
       "  <tbody>\n",
       "    <tr>\n",
       "      <th>0</th>\n",
       "      <td>6</td>\n",
       "      <td>148</td>\n",
       "      <td>72</td>\n",
       "      <td>35</td>\n",
       "      <td>0</td>\n",
       "      <td>33.6</td>\n",
       "      <td>0.627</td>\n",
       "      <td>50</td>\n",
       "      <td>1</td>\n",
       "    </tr>\n",
       "    <tr>\n",
       "      <th>1</th>\n",
       "      <td>1</td>\n",
       "      <td>85</td>\n",
       "      <td>66</td>\n",
       "      <td>29</td>\n",
       "      <td>0</td>\n",
       "      <td>26.6</td>\n",
       "      <td>0.351</td>\n",
       "      <td>31</td>\n",
       "      <td>0</td>\n",
       "    </tr>\n",
       "    <tr>\n",
       "      <th>2</th>\n",
       "      <td>8</td>\n",
       "      <td>183</td>\n",
       "      <td>64</td>\n",
       "      <td>0</td>\n",
       "      <td>0</td>\n",
       "      <td>23.3</td>\n",
       "      <td>0.672</td>\n",
       "      <td>32</td>\n",
       "      <td>1</td>\n",
       "    </tr>\n",
       "    <tr>\n",
       "      <th>3</th>\n",
       "      <td>1</td>\n",
       "      <td>89</td>\n",
       "      <td>66</td>\n",
       "      <td>23</td>\n",
       "      <td>94</td>\n",
       "      <td>28.1</td>\n",
       "      <td>0.167</td>\n",
       "      <td>21</td>\n",
       "      <td>0</td>\n",
       "    </tr>\n",
       "    <tr>\n",
       "      <th>4</th>\n",
       "      <td>0</td>\n",
       "      <td>137</td>\n",
       "      <td>40</td>\n",
       "      <td>35</td>\n",
       "      <td>168</td>\n",
       "      <td>43.1</td>\n",
       "      <td>2.288</td>\n",
       "      <td>33</td>\n",
       "      <td>1</td>\n",
       "    </tr>\n",
       "    <tr>\n",
       "      <th>...</th>\n",
       "      <td>...</td>\n",
       "      <td>...</td>\n",
       "      <td>...</td>\n",
       "      <td>...</td>\n",
       "      <td>...</td>\n",
       "      <td>...</td>\n",
       "      <td>...</td>\n",
       "      <td>...</td>\n",
       "      <td>...</td>\n",
       "    </tr>\n",
       "    <tr>\n",
       "      <th>763</th>\n",
       "      <td>10</td>\n",
       "      <td>101</td>\n",
       "      <td>76</td>\n",
       "      <td>48</td>\n",
       "      <td>180</td>\n",
       "      <td>32.9</td>\n",
       "      <td>0.171</td>\n",
       "      <td>63</td>\n",
       "      <td>0</td>\n",
       "    </tr>\n",
       "    <tr>\n",
       "      <th>764</th>\n",
       "      <td>2</td>\n",
       "      <td>122</td>\n",
       "      <td>70</td>\n",
       "      <td>27</td>\n",
       "      <td>0</td>\n",
       "      <td>36.8</td>\n",
       "      <td>0.340</td>\n",
       "      <td>27</td>\n",
       "      <td>0</td>\n",
       "    </tr>\n",
       "    <tr>\n",
       "      <th>765</th>\n",
       "      <td>5</td>\n",
       "      <td>121</td>\n",
       "      <td>72</td>\n",
       "      <td>23</td>\n",
       "      <td>112</td>\n",
       "      <td>26.2</td>\n",
       "      <td>0.245</td>\n",
       "      <td>30</td>\n",
       "      <td>0</td>\n",
       "    </tr>\n",
       "    <tr>\n",
       "      <th>766</th>\n",
       "      <td>1</td>\n",
       "      <td>126</td>\n",
       "      <td>60</td>\n",
       "      <td>0</td>\n",
       "      <td>0</td>\n",
       "      <td>30.1</td>\n",
       "      <td>0.349</td>\n",
       "      <td>47</td>\n",
       "      <td>1</td>\n",
       "    </tr>\n",
       "    <tr>\n",
       "      <th>767</th>\n",
       "      <td>1</td>\n",
       "      <td>93</td>\n",
       "      <td>70</td>\n",
       "      <td>31</td>\n",
       "      <td>0</td>\n",
       "      <td>30.4</td>\n",
       "      <td>0.315</td>\n",
       "      <td>23</td>\n",
       "      <td>0</td>\n",
       "    </tr>\n",
       "  </tbody>\n",
       "</table>\n",
       "<p>768 rows × 9 columns</p>\n",
       "</div>"
      ],
      "text/plain": [
       "     Pregnancies  Glucose  BloodPressure  SkinThickness  Insulin   BMI  \\\n",
       "0              6      148             72             35        0  33.6   \n",
       "1              1       85             66             29        0  26.6   \n",
       "2              8      183             64              0        0  23.3   \n",
       "3              1       89             66             23       94  28.1   \n",
       "4              0      137             40             35      168  43.1   \n",
       "..           ...      ...            ...            ...      ...   ...   \n",
       "763           10      101             76             48      180  32.9   \n",
       "764            2      122             70             27        0  36.8   \n",
       "765            5      121             72             23      112  26.2   \n",
       "766            1      126             60              0        0  30.1   \n",
       "767            1       93             70             31        0  30.4   \n",
       "\n",
       "     DiabetesPedigreeFunction  Age  Outcome  \n",
       "0                       0.627   50        1  \n",
       "1                       0.351   31        0  \n",
       "2                       0.672   32        1  \n",
       "3                       0.167   21        0  \n",
       "4                       2.288   33        1  \n",
       "..                        ...  ...      ...  \n",
       "763                     0.171   63        0  \n",
       "764                     0.340   27        0  \n",
       "765                     0.245   30        0  \n",
       "766                     0.349   47        1  \n",
       "767                     0.315   23        0  \n",
       "\n",
       "[768 rows x 9 columns]"
      ]
     },
     "execution_count": 1,
     "metadata": {},
     "output_type": "execute_result"
    }
   ],
   "source": [
    "import pandas as pd\n",
    "\n",
    "data = pd.read_csv('diabetes.csv')\n",
    "\n",
    "data"
   ]
  },
  {
   "cell_type": "code",
   "execution_count": 13,
   "id": "7eb93cf4",
   "metadata": {},
   "outputs": [
    {
     "data": {
      "text/plain": [
       "0      1\n",
       "1      0\n",
       "2      1\n",
       "3      0\n",
       "4      1\n",
       "      ..\n",
       "763    0\n",
       "764    0\n",
       "765    0\n",
       "766    1\n",
       "767    0\n",
       "Name: Outcome, Length: 768, dtype: int64"
      ]
     },
     "execution_count": 13,
     "metadata": {},
     "output_type": "execute_result"
    }
   ],
   "source": [
    "data_input = data_input = data.drop(columns = ['Age','Outcome'])\n",
    "\n",
    "data_input\n",
    "\n",
    "data_target = data['Outcome']\n",
    "\n",
    "data_target"
   ]
  },
  {
   "cell_type": "code",
   "execution_count": 14,
   "id": "16b1f955",
   "metadata": {},
   "outputs": [
    {
     "data": {
      "text/plain": [
       "662    1\n",
       "600    0\n",
       "649    0\n",
       "748    1\n",
       "165    1\n",
       "      ..\n",
       "489    0\n",
       "618    1\n",
       "298    1\n",
       "526    0\n",
       "378    1\n",
       "Name: Outcome, Length: 154, dtype: int64"
      ]
     },
     "execution_count": 14,
     "metadata": {},
     "output_type": "execute_result"
    }
   ],
   "source": [
    "from sklearn.model_selection import train_test_split\n",
    "input_train, input_test, target_train, target_test = train_test_split (data_input, data_target,\n",
    "test_size = 0.2)\n",
    "\n",
    "input_train\n",
    "\n",
    "input_test\n",
    "\n",
    "target_train\n",
    "\n",
    "target_test"
   ]
  },
  {
   "cell_type": "code",
   "execution_count": 15,
   "id": "5fa5c25d",
   "metadata": {},
   "outputs": [
    {
     "data": {
      "text/plain": [
       "array([1., 0., 0., 1., 0., 0., 0., 1., 1., 0., 0., 1., 1., 1., 1., 0., 1.,\n",
       "       0., 0., 1., 0., 1., 0., 0., 0., 1., 1., 0., 1., 1., 1., 0., 0., 0.,\n",
       "       0., 1., 1., 0., 1., 0., 0., 1., 0., 0., 1., 1., 0., 0., 0., 0., 1.,\n",
       "       0., 0., 0., 0., 1., 0., 1., 1., 0., 0., 1., 0., 0., 1., 0., 0., 0.,\n",
       "       0., 0., 0., 0., 0., 0., 0., 0., 1., 0., 1., 1., 1., 0., 1., 1., 0.,\n",
       "       1., 0., 0., 0., 1., 0., 0., 1., 0., 0., 0., 1., 0., 0., 1., 1., 0.,\n",
       "       1., 1., 1., 0., 1., 0., 1., 0., 1., 0., 1., 0., 0., 1., 1., 0., 1.,\n",
       "       0., 1., 0., 0., 1., 0., 0., 0., 1., 0., 1., 1., 0., 0., 0., 1., 1.,\n",
       "       1., 1., 1., 1., 0., 0., 1., 0., 1., 0., 0., 0., 1., 1., 0., 1., 0.,\n",
       "       1.])"
      ]
     },
     "execution_count": 15,
     "metadata": {},
     "output_type": "execute_result"
    }
   ],
   "source": [
    "from sklearn.neighbors import KNeighborsRegressor\n",
    "\n",
    "knn_1 = KNeighborsRegressor (n_neighbors = 1)\n",
    "\n",
    "knn_1.fit(input_train, target_train)\n",
    "\n",
    "knn_1RegressorAll = knn_1.predict (input_test)\n",
    "\n",
    "knn_1RegressorAll"
   ]
  },
  {
   "cell_type": "code",
   "execution_count": 16,
   "id": "0aa2c50d",
   "metadata": {},
   "outputs": [
    {
     "data": {
      "text/plain": [
       "0.36363636363636365"
      ]
     },
     "execution_count": 16,
     "metadata": {},
     "output_type": "execute_result"
    }
   ],
   "source": [
    "from sklearn.metrics import mean_squared_error\n",
    "mseKnn1 = mean_squared_error (knn_1RegressorAll, target_test)\n",
    "\n",
    "mseKnn1"
   ]
  },
  {
   "cell_type": "code",
   "execution_count": 17,
   "id": "8420f595",
   "metadata": {},
   "outputs": [
    {
     "data": {
      "text/plain": [
       "array([0.8, 0.2, 0.2, 1. , 0.2, 0.6, 0.8, 1. , 0.8, 0.6, 0. , 0.8, 0.6,\n",
       "       0.6, 0.8, 0. , 0.6, 0.2, 0.4, 0.4, 0. , 0.6, 0.2, 0. , 0. , 0.6,\n",
       "       0.2, 0.6, 0.6, 1. , 0.4, 0. , 0. , 0. , 0.4, 0.8, 0.8, 0. , 1. ,\n",
       "       0. , 0. , 0.6, 0. , 0. , 0.6, 0.4, 0.4, 0.4, 0.2, 0. , 0.8, 0.4,\n",
       "       0.6, 0. , 0.8, 0.8, 0.4, 0.4, 0.8, 0. , 0.2, 0.4, 0. , 0. , 0.6,\n",
       "       0.4, 0.2, 0.2, 0.4, 0.4, 0. , 0. , 0. , 0.2, 0.4, 0.2, 0.6, 0.4,\n",
       "       0.2, 0.8, 0.2, 0.8, 0.2, 1. , 0.2, 0.4, 0.2, 0.6, 0. , 1. , 0. ,\n",
       "       0. , 1. , 0.6, 0.2, 0.8, 0.6, 0.8, 0. , 0.4, 0.4, 0.6, 0.6, 0.6,\n",
       "       0.6, 0.4, 0.8, 0. , 0.6, 0. , 0.4, 0.2, 1. , 0. , 0.2, 0.6, 0.2,\n",
       "       0.4, 0.2, 0.4, 0.6, 0. , 0.6, 0.4, 0. , 0. , 0.4, 0.2, 0.2, 0.8,\n",
       "       0.6, 0.6, 0.2, 0. , 0.8, 0.6, 1. , 0.2, 1. , 0.6, 0.6, 0.8, 0.8,\n",
       "       0. , 0.4, 0.4, 0.4, 0.4, 0.6, 1. , 0.4, 0.4, 0. , 0.8])"
      ]
     },
     "execution_count": 17,
     "metadata": {},
     "output_type": "execute_result"
    }
   ],
   "source": [
    "knn_5 = KNeighborsRegressor (n_neighbors = 5)\n",
    "\n",
    "knn_5.fit(input_train, target_train)\n",
    "\n",
    "knn_5RegressorAll = knn_5.predict (input_test)\n",
    "\n",
    "knn_5RegressorAll"
   ]
  },
  {
   "cell_type": "code",
   "execution_count": 18,
   "id": "c313dd74",
   "metadata": {},
   "outputs": [
    {
     "data": {
      "text/plain": [
       "0.21428571428571427"
      ]
     },
     "execution_count": 18,
     "metadata": {},
     "output_type": "execute_result"
    }
   ],
   "source": [
    "mseKnn5 = mean_squared_error (knn_5RegressorAll, target_test)\n",
    "\n",
    "mseKnn5"
   ]
  },
  {
   "cell_type": "code",
   "execution_count": 19,
   "id": "e151b8ae",
   "metadata": {},
   "outputs": [
    {
     "data": {
      "text/plain": [
       "array([0.7, 0.3, 0.3, 0.9, 0.3, 0.5, 0.7, 0.9, 0.8, 0.3, 0.2, 0.7, 0.6,\n",
       "       0.6, 0.8, 0. , 0.6, 0.3, 0.3, 0.4, 0. , 0.6, 0.2, 0.3, 0. , 0.5,\n",
       "       0.3, 0.6, 0.5, 0.9, 0.4, 0.2, 0.1, 0. , 0.3, 0.7, 0.6, 0. , 0.7,\n",
       "       0. , 0. , 0.5, 0. , 0. , 0.5, 0.3, 0.5, 0.4, 0.2, 0. , 0.7, 0.2,\n",
       "       0.5, 0. , 0.6, 0.5, 0.4, 0.6, 0.6, 0. , 0.4, 0.5, 0. , 0.1, 0.3,\n",
       "       0.5, 0.2, 0.4, 0.2, 0.2, 0. , 0.1, 0. , 0.3, 0.5, 0.2, 0.5, 0.5,\n",
       "       0.2, 0.8, 0.2, 0.7, 0.1, 0.8, 0.3, 0.5, 0.2, 0.4, 0. , 0.7, 0.1,\n",
       "       0. , 0.9, 0.4, 0.2, 0.5, 0.4, 0.7, 0.2, 0.2, 0.5, 0.5, 0.7, 0.5,\n",
       "       0.6, 0.7, 0.9, 0.1, 0.3, 0. , 0.5, 0.3, 0.8, 0.1, 0.2, 0.5, 0.4,\n",
       "       0.2, 0.3, 0.6, 0.7, 0. , 0.4, 0.4, 0.1, 0. , 0.4, 0.2, 0.4, 0.7,\n",
       "       0.7, 0.6, 0.1, 0. , 0.7, 0.4, 0.7, 0.1, 1. , 0.3, 0.6, 0.7, 0.9,\n",
       "       0. , 0.5, 0.3, 0.6, 0.4, 0.8, 0.7, 0.4, 0.2, 0.1, 0.8])"
      ]
     },
     "execution_count": 19,
     "metadata": {},
     "output_type": "execute_result"
    }
   ],
   "source": [
    "knn_10 = KNeighborsRegressor (n_neighbors = 10)\n",
    "\n",
    "knn_10.fit(input_train, target_train)\n",
    "\n",
    "knn_10RegressorAll = knn_10.predict (input_test)\n",
    "\n",
    "knn_10RegressorAll"
   ]
  },
  {
   "cell_type": "code",
   "execution_count": 20,
   "id": "260113c9",
   "metadata": {},
   "outputs": [
    {
     "data": {
      "text/plain": [
       "0.1925974025974026"
      ]
     },
     "execution_count": 20,
     "metadata": {},
     "output_type": "execute_result"
    }
   ],
   "source": [
    "mseKnn10 = mean_squared_error (knn_10RegressorAll, target_test)\n",
    "\n",
    "mseKnn10"
   ]
  },
  {
   "cell_type": "code",
   "execution_count": 21,
   "id": "8d25cb32",
   "metadata": {},
   "outputs": [
    {
     "data": {
      "text/plain": [
       "array([0.53333333, 0.33333333, 0.26666667, 0.8       , 0.4       ,\n",
       "       0.46666667, 0.6       , 0.86666667, 0.8       , 0.26666667,\n",
       "       0.33333333, 0.73333333, 0.46666667, 0.53333333, 0.8       ,\n",
       "       0.        , 0.6       , 0.33333333, 0.4       , 0.4       ,\n",
       "       0.13333333, 0.53333333, 0.13333333, 0.33333333, 0.        ,\n",
       "       0.53333333, 0.33333333, 0.53333333, 0.46666667, 0.86666667,\n",
       "       0.33333333, 0.26666667, 0.06666667, 0.        , 0.4       ,\n",
       "       0.73333333, 0.46666667, 0.        , 0.73333333, 0.        ,\n",
       "       0.06666667, 0.4       , 0.13333333, 0.06666667, 0.46666667,\n",
       "       0.46666667, 0.46666667, 0.33333333, 0.2       , 0.        ,\n",
       "       0.66666667, 0.2       , 0.46666667, 0.        , 0.53333333,\n",
       "       0.46666667, 0.46666667, 0.66666667, 0.46666667, 0.        ,\n",
       "       0.4       , 0.46666667, 0.13333333, 0.2       , 0.4       ,\n",
       "       0.4       , 0.13333333, 0.46666667, 0.2       , 0.2       ,\n",
       "       0.06666667, 0.13333333, 0.        , 0.33333333, 0.4       ,\n",
       "       0.13333333, 0.4       , 0.46666667, 0.13333333, 0.86666667,\n",
       "       0.2       , 0.6       , 0.06666667, 0.8       , 0.26666667,\n",
       "       0.4       , 0.2       , 0.4       , 0.13333333, 0.8       ,\n",
       "       0.2       , 0.        , 0.8       , 0.33333333, 0.2       ,\n",
       "       0.46666667, 0.46666667, 0.66666667, 0.4       , 0.2       ,\n",
       "       0.46666667, 0.46666667, 0.66666667, 0.6       , 0.46666667,\n",
       "       0.53333333, 0.86666667, 0.26666667, 0.26666667, 0.        ,\n",
       "       0.4       , 0.2       , 0.8       , 0.26666667, 0.33333333,\n",
       "       0.4       , 0.53333333, 0.13333333, 0.26666667, 0.46666667,\n",
       "       0.46666667, 0.        , 0.4       , 0.33333333, 0.06666667,\n",
       "       0.        , 0.53333333, 0.13333333, 0.53333333, 0.8       ,\n",
       "       0.73333333, 0.73333333, 0.13333333, 0.06666667, 0.8       ,\n",
       "       0.46666667, 0.8       , 0.26666667, 0.8       , 0.33333333,\n",
       "       0.53333333, 0.73333333, 0.86666667, 0.        , 0.53333333,\n",
       "       0.26666667, 0.4       , 0.46666667, 0.8       , 0.8       ,\n",
       "       0.33333333, 0.2       , 0.06666667, 0.8       ])"
      ]
     },
     "execution_count": 21,
     "metadata": {},
     "output_type": "execute_result"
    }
   ],
   "source": [
    "knn_15 = KNeighborsRegressor (n_neighbors = 15)\n",
    "\n",
    "knn_15.fit(input_train, target_train)\n",
    "\n",
    "knn_15RegressorAll = knn_15.predict (input_test)\n",
    "\n",
    "knn_15RegressorAll"
   ]
  },
  {
   "cell_type": "code",
   "execution_count": 22,
   "id": "933d41f5",
   "metadata": {},
   "outputs": [
    {
     "data": {
      "text/plain": [
       "0.18909090909090912"
      ]
     },
     "execution_count": 22,
     "metadata": {},
     "output_type": "execute_result"
    }
   ],
   "source": [
    "mseKnn15 = mean_squared_error (knn_15RegressorAll, target_test)\n",
    "\n",
    "mseKnn15"
   ]
  },
  {
   "cell_type": "code",
   "execution_count": null,
   "id": "b63ca96d",
   "metadata": {},
   "outputs": [],
   "source": []
  }
 ],
 "metadata": {
  "kernelspec": {
   "display_name": "Python 3 (ipykernel)",
   "language": "python",
   "name": "python3"
  },
  "language_info": {
   "codemirror_mode": {
    "name": "ipython",
    "version": 3
   },
   "file_extension": ".py",
   "mimetype": "text/x-python",
   "name": "python",
   "nbconvert_exporter": "python",
   "pygments_lexer": "ipython3",
   "version": "3.9.7"
  }
 },
 "nbformat": 4,
 "nbformat_minor": 5
}
